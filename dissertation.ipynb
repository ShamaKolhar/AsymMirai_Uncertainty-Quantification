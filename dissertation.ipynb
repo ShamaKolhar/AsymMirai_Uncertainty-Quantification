{
  "nbformat": 4,
  "nbformat_minor": 0,
  "metadata": {
    "colab": {
      "provenance": [],
      "machine_shape": "hm",
      "gpuType": "L4",
      "authorship_tag": "ABX9TyPLOHDyfvPR4ImMoPkMKn/C",
      "include_colab_link": true
    },
    "kernelspec": {
      "name": "python3",
      "display_name": "Python 3"
    },
    "language_info": {
      "name": "python"
    },
    "accelerator": "GPU"
  },
  "cells": [
    {
      "cell_type": "markdown",
      "metadata": {
        "id": "view-in-github",
        "colab_type": "text"
      },
      "source": [
        "<a href=\"https://colab.research.google.com/github/ShamaKolhar/ResearchProject/blob/main/dissertation.ipynb\" target=\"_parent\"><img src=\"https://colab.research.google.com/assets/colab-badge.svg\" alt=\"Open In Colab\"/></a>"
      ]
    },
    {
      "cell_type": "code",
      "execution_count": 2,
      "metadata": {
        "colab": {
          "base_uri": "https://localhost:8080/"
        },
        "id": "_jdWvexpgI2_",
        "outputId": "3705b682-0c3f-4bea-96b5-b086195230af"
      },
      "outputs": [
        {
          "output_type": "stream",
          "name": "stdout",
          "text": [
            "Mounted at /content/drive\n"
          ]
        }
      ],
      "source": [
        "from google.colab import drive\n",
        "drive.mount('/content/drive')"
      ]
    },
    {
      "cell_type": "code",
      "source": [
        "!pip install pydicom pypng\n"
      ],
      "metadata": {
        "colab": {
          "base_uri": "https://localhost:8080/"
        },
        "id": "tcQ_coNy1yUL",
        "outputId": "046e8adf-a03b-4720-9611-f1d0de126409"
      },
      "execution_count": 7,
      "outputs": [
        {
          "output_type": "stream",
          "name": "stdout",
          "text": [
            "Collecting pydicom\n",
            "  Downloading pydicom-3.0.1-py3-none-any.whl.metadata (9.4 kB)\n",
            "Collecting pypng\n",
            "  Downloading pypng-0.20220715.0-py3-none-any.whl.metadata (13 kB)\n",
            "Downloading pydicom-3.0.1-py3-none-any.whl (2.4 MB)\n",
            "\u001b[?25l   \u001b[90m━━━━━━━━━━━━━━━━━━━━━━━━━━━━━━━━━━━━━━━━\u001b[0m \u001b[32m0.0/2.4 MB\u001b[0m \u001b[31m?\u001b[0m eta \u001b[36m-:--:--\u001b[0m\r\u001b[2K   \u001b[91m━━━━━━━━━━━━━━━\u001b[0m\u001b[91m╸\u001b[0m\u001b[90m━━━━━━━━━━━━━━━━━━━━━━━━\u001b[0m \u001b[32m0.9/2.4 MB\u001b[0m \u001b[31m27.4 MB/s\u001b[0m eta \u001b[36m0:00:01\u001b[0m\r\u001b[2K   \u001b[90m━━━━━━━━━━━━━━━━━━━━━━━━━━━━━━━━━━━━━━━━\u001b[0m \u001b[32m2.4/2.4 MB\u001b[0m \u001b[31m42.6 MB/s\u001b[0m eta \u001b[36m0:00:00\u001b[0m\n",
            "\u001b[?25hDownloading pypng-0.20220715.0-py3-none-any.whl (58 kB)\n",
            "\u001b[?25l   \u001b[90m━━━━━━━━━━━━━━━━━━━━━━━━━━━━━━━━━━━━━━━━\u001b[0m \u001b[32m0.0/58.1 kB\u001b[0m \u001b[31m?\u001b[0m eta \u001b[36m-:--:--\u001b[0m\r\u001b[2K   \u001b[90m━━━━━━━━━━━━━━━━━━━━━━━━━━━━━━━━━━━━━━━━\u001b[0m \u001b[32m58.1/58.1 kB\u001b[0m \u001b[31m7.6 MB/s\u001b[0m eta \u001b[36m0:00:00\u001b[0m\n",
            "\u001b[?25hInstalling collected packages: pypng, pydicom\n",
            "Successfully installed pydicom-3.0.1 pypng-0.20220715.0\n"
          ]
        }
      ]
    },
    {
      "cell_type": "code",
      "source": [
        "!pip install -q pydicom pylibjpeg pylibjpeg-libjpeg pylibjpeg-openjpeg numpy\n"
      ],
      "metadata": {
        "id": "47Zo3KYu-aFo"
      },
      "execution_count": 17,
      "outputs": []
    },
    {
      "cell_type": "code",
      "source": [
        "import os\n",
        "from glob import glob\n",
        "converted_files = glob(\"/content/drive/MyDrive/dissertation/pngimages/*.png\")\n",
        "print(\"✅ Total PNGs:\", len(converted_files))\n"
      ],
      "metadata": {
        "colab": {
          "base_uri": "https://localhost:8080/"
        },
        "id": "sd34Rlz_zATk",
        "outputId": "09ad9f1b-52aa-4e80-fb72-55dcc0080ef5"
      },
      "execution_count": 22,
      "outputs": [
        {
          "output_type": "stream",
          "name": "stdout",
          "text": [
            "✅ Total PNGs: 341\n"
          ]
        }
      ]
    },
    {
      "cell_type": "code",
      "source": [
        "import os\n",
        "import pydicom\n",
        "import pandas as pd\n",
        "\n",
        "dcm_root = \"/content/drive/MyDrive/dissertation/dcmimages/dcm\"\n",
        "records = []\n",
        "\n",
        "for root, _, files in os.walk(dcm_root):\n",
        "    for file in files:\n",
        "        if file.endswith(\".dcm\"):\n",
        "            try:\n",
        "                dcm_path = os.path.join(root, file)\n",
        "                ds = pydicom.dcmread(dcm_path, force=True)\n",
        "\n",
        "                exam_id = getattr(ds, \"PatientID\", \"unknown\")\n",
        "                view = getattr(ds, \"ViewPosition\", \"unknown\")\n",
        "                laterality = getattr(ds, \"ImageLaterality\", \"unknown\")\n",
        "\n",
        "                records.append({\n",
        "                    \"dicom_path\": dcm_path,\n",
        "                    \"dicom_filename\": file,\n",
        "                    \"exam_id\": exam_id,\n",
        "                    \"view\": view,\n",
        "                    \"laterality\": laterality\n",
        "                })\n",
        "            except Exception as e:\n",
        "                print(f\"Failed on {file}: {e}\")\n",
        "\n",
        "df = pd.DataFrame(records)\n",
        "df.to_csv(\"dicom_metadata.csv\", index=False)\n",
        "print(\"✅ Metadata saved to dicom_metadata.csv\")\n"
      ],
      "metadata": {
        "colab": {
          "base_uri": "https://localhost:8080/"
        },
        "id": "8sA6YLcKL9U4",
        "outputId": "5cfc7355-fcde-4b27-c546-7073a1f89216"
      },
      "execution_count": 27,
      "outputs": [
        {
          "output_type": "stream",
          "name": "stdout",
          "text": [
            "✅ Metadata saved to dicom_metadata.csv\n"
          ]
        }
      ]
    },
    {
      "cell_type": "code",
      "source": [
        "import pandas as pd\n",
        "import os\n",
        "\n",
        "# Load your metadata CSV (from the previous step)\n",
        "metadata_df = pd.read_csv(\"dicom_metadata.csv\")\n",
        "\n",
        "# Path where your PNG images were saved (change if needed)\n",
        "png_folder = \"/content/drive/MyDrive/dissertation/pngimages\"\n",
        "\n",
        "# Create list for the final records\n",
        "records = []\n",
        "\n",
        "# Match PNG files to DICOM metadata\n",
        "for fname in os.listdir(png_folder):\n",
        "    if not fname.lower().endswith(\".png\"):\n",
        "        continue\n",
        "\n",
        "    # Remove .png extension to match dicom filename\n",
        "    dicom_id = fname.replace(\".png\", \"\")\n",
        "    row = metadata_df[metadata_df[\"dicom_filename\"].str.contains(dicom_id)]\n",
        "\n",
        "    if not row.empty:\n",
        "        row = row.iloc[0]\n",
        "        records.append({\n",
        "            \"file_path\": os.path.join(png_folder, fname),\n",
        "            \"exam_id\": row[\"exam_id\"],\n",
        "            \"view\": row[\"view\"],\n",
        "            \"laterality\": row[\"laterality\"]\n",
        "        })\n",
        "    else:\n",
        "        print(f\"Skipping unmatched PNG: {fname}\")\n",
        "\n",
        "# Save the final CSV\n",
        "final_df = pd.DataFrame(records)\n",
        "final_df.to_csv(\"mirai_metadata.csv\", index=False)\n",
        "print(\"✅ Saved mirai_metadata.csv with\", len(final_df), \"entries\")\n"
      ],
      "metadata": {
        "colab": {
          "base_uri": "https://localhost:8080/"
        },
        "id": "lPdKD4FlLDUz",
        "outputId": "eb6a7541-b5e5-4137-ede9-fc82d36d52ea"
      },
      "execution_count": 31,
      "outputs": [
        {
          "output_type": "stream",
          "name": "stdout",
          "text": [
            "✅ Saved mirai_metadata.csv with 341 entries\n"
          ]
        }
      ]
    },
    {
      "cell_type": "code",
      "source": [
        "!python /content/drive/MyDrive/dissertation/AsymMirai-master/AsymMirai-master/asymmetry_model/asymmetry_metrics.py"
      ],
      "metadata": {
        "id": "K-7yGvugN4wU"
      },
      "execution_count": 37,
      "outputs": []
    },
    {
      "cell_type": "code",
      "source": [
        "!python /content/drive/MyDrive/dissertation/AsymMirai-master/AsymMirai-master/asymmetry_model/mirai_localized_dif_head.py"
      ],
      "metadata": {
        "id": "-WY1T4qDOziU"
      },
      "execution_count": 38,
      "outputs": []
    },
    {
      "cell_type": "code",
      "source": [
        "import sys\n",
        "sys.path.append(\"/content/drive/MyDrive/dissertation/AsymMirai-master/AsymMirai-master\")\n"
      ],
      "metadata": {
        "id": "Gh2dzqPWO3vl"
      },
      "execution_count": 45,
      "outputs": []
    },
    {
      "cell_type": "code",
      "source": [
        "!ls /content\n",
        "import os\n",
        "for root, dirs, files in os.walk(\"/content\"):\n",
        "    for file in files:\n",
        "        if file.endswith(\".py\"):\n",
        "            print(os.path.join(root, file))\n"
      ],
      "metadata": {
        "colab": {
          "base_uri": "https://localhost:8080/"
        },
        "id": "_lpUw1u5PUcc",
        "outputId": "3c35d4c9-41b2-4704-d5ab-e40bf0cfa758"
      },
      "execution_count": 44,
      "outputs": [
        {
          "output_type": "stream",
          "name": "stdout",
          "text": [
            "dicom_metadata.csv  drive  mirai_metadata.csv  sample_data\n",
            "/content/drive/MyDrive/Research Project/AsymMirai-radiology-1.0/get_asymmetries.py\n",
            "/content/drive/MyDrive/Research Project/AsymMirai-radiology-1.0/scripts/main.py\n",
            "/content/drive/MyDrive/Research Project/AsymMirai-radiology-1.0/scripts/dispatcher.py\n",
            "/content/drive/MyDrive/Research Project/AsymMirai-radiology-1.0/scripts/get_dataset_stats.py\n",
            "/content/drive/MyDrive/Research Project/AsymMirai-radiology-1.0/tests/test_loader.py\n",
            "/content/drive/MyDrive/Research Project/AsymMirai-radiology-1.0/tests/test_utils.py\n",
            "/content/drive/MyDrive/Research Project/AsymMirai-radiology-1.0/tests/test_models.py\n",
            "/content/drive/MyDrive/Research Project/AsymMirai-radiology-1.0/tests/test_transformers.py\n",
            "/content/drive/MyDrive/Research Project/AsymMirai-radiology-1.0/tests/__init__.py\n",
            "/content/drive/MyDrive/Research Project/AsymMirai-radiology-1.0/tests/test_asymmetry.py\n",
            "/content/drive/MyDrive/Research Project/AsymMirai-radiology-1.0/onconet/__init__.py\n",
            "/content/drive/MyDrive/Research Project/AsymMirai-radiology-1.0/onconet/visualize/viz_utils.py\n",
            "/content/drive/MyDrive/Research Project/AsymMirai-radiology-1.0/onconet/visualize/__init__.py\n",
            "/content/drive/MyDrive/Research Project/AsymMirai-radiology-1.0/onconet/visualize/plot_filters.py\n",
            "/content/drive/MyDrive/Research Project/AsymMirai-radiology-1.0/onconet/transformers/tensor.py\n",
            "/content/drive/MyDrive/Research Project/AsymMirai-radiology-1.0/onconet/transformers/video.py\n",
            "/content/drive/MyDrive/Research Project/AsymMirai-radiology-1.0/onconet/transformers/__init__.py\n",
            "/content/drive/MyDrive/Research Project/AsymMirai-radiology-1.0/onconet/transformers/factory.py\n",
            "/content/drive/MyDrive/Research Project/AsymMirai-radiology-1.0/onconet/transformers/basic.py\n",
            "/content/drive/MyDrive/Research Project/AsymMirai-radiology-1.0/onconet/transformers/image.py\n",
            "/content/drive/MyDrive/Research Project/AsymMirai-radiology-1.0/onconet/transformers/abstract.py\n",
            "/content/drive/MyDrive/Research Project/AsymMirai-radiology-1.0/onconet/utils/c_index.py\n",
            "/content/drive/MyDrive/Research Project/AsymMirai-radiology-1.0/onconet/utils/generic.py\n",
            "/content/drive/MyDrive/Research Project/AsymMirai-radiology-1.0/onconet/utils/parsing.py\n",
            "/content/drive/MyDrive/Research Project/AsymMirai-radiology-1.0/onconet/utils/__init__.py\n",
            "/content/drive/MyDrive/Research Project/AsymMirai-radiology-1.0/onconet/utils/get_dataset_stats.py\n",
            "/content/drive/MyDrive/Research Project/AsymMirai-radiology-1.0/onconet/utils/risk_factors.py\n",
            "/content/drive/MyDrive/Research Project/AsymMirai-radiology-1.0/onconet/utils/region_annotation.py\n",
            "/content/drive/MyDrive/Research Project/AsymMirai-radiology-1.0/onconet/utils/stats.py\n",
            "/content/drive/MyDrive/Research Project/AsymMirai-radiology-1.0/onconet/models/cumulative_probability_layer.py\n",
            "/content/drive/MyDrive/Research Project/AsymMirai-radiology-1.0/onconet/models/aggregator.py\n",
            "/content/drive/MyDrive/Research Project/AsymMirai-radiology-1.0/onconet/models/default_models.py\n",
            "/content/drive/MyDrive/Research Project/AsymMirai-radiology-1.0/onconet/models/__init__.py\n",
            "/content/drive/MyDrive/Research Project/AsymMirai-radiology-1.0/onconet/models/aggregate_hiddens.py\n",
            "/content/drive/MyDrive/Research Project/AsymMirai-radiology-1.0/onconet/models/discriminator.py\n",
            "/content/drive/MyDrive/Research Project/AsymMirai-radiology-1.0/onconet/models/aggregate_feat_maps.py\n",
            "/content/drive/MyDrive/Research Project/AsymMirai-radiology-1.0/onconet/models/custom_resnet.py\n",
            "/content/drive/MyDrive/Research Project/AsymMirai-radiology-1.0/onconet/models/default_resnets.py\n",
            "/content/drive/MyDrive/Research Project/AsymMirai-radiology-1.0/onconet/models/mirai_full.py\n",
            "/content/drive/MyDrive/Research Project/AsymMirai-radiology-1.0/onconet/models/mmd.py\n",
            "/content/drive/MyDrive/Research Project/AsymMirai-radiology-1.0/onconet/models/factory.py\n",
            "/content/drive/MyDrive/Research Project/AsymMirai-radiology-1.0/onconet/models/hiddens_transfomer.py\n",
            "/content/drive/MyDrive/Research Project/AsymMirai-radiology-1.0/onconet/models/resnet_base.py\n",
            "/content/drive/MyDrive/Research Project/AsymMirai-radiology-1.0/onconet/models/temporal_mmd.py\n",
            "/content/drive/MyDrive/Research Project/AsymMirai-radiology-1.0/onconet/models/group_norm.py\n",
            "/content/drive/MyDrive/Research Project/AsymMirai-radiology-1.0/onconet/models/ensemble.py\n",
            "/content/drive/MyDrive/Research Project/AsymMirai-radiology-1.0/onconet/models/inflate.py\n",
            "/content/drive/MyDrive/Research Project/AsymMirai-radiology-1.0/onconet/models/nonlocal_resnets.py\n",
            "/content/drive/MyDrive/Research Project/AsymMirai-radiology-1.0/onconet/models/spatial_transformers/factory.py\n",
            "/content/drive/MyDrive/Research Project/AsymMirai-radiology-1.0/onconet/models/spatial_transformers/affine.py\n",
            "/content/drive/MyDrive/Research Project/AsymMirai-radiology-1.0/onconet/models/spatial_transformers/__init__.py\n",
            "/content/drive/MyDrive/Research Project/AsymMirai-radiology-1.0/onconet/models/pools/abstract_pool.py\n",
            "/content/drive/MyDrive/Research Project/AsymMirai-radiology-1.0/onconet/models/pools/max_pool.py\n",
            "/content/drive/MyDrive/Research Project/AsymMirai-radiology-1.0/onconet/models/pools/risk_factor_pool.py\n",
            "/content/drive/MyDrive/Research Project/AsymMirai-radiology-1.0/onconet/models/pools/__init__.py\n",
            "/content/drive/MyDrive/Research Project/AsymMirai-radiology-1.0/onconet/models/pools/concat_pool.py\n",
            "/content/drive/MyDrive/Research Project/AsymMirai-radiology-1.0/onconet/models/pools/deep_risk_factor_pool.py\n",
            "/content/drive/MyDrive/Research Project/AsymMirai-radiology-1.0/onconet/models/pools/sliding_window.py\n",
            "/content/drive/MyDrive/Research Project/AsymMirai-radiology-1.0/onconet/models/pools/attention_pool.py\n",
            "/content/drive/MyDrive/Research Project/AsymMirai-radiology-1.0/onconet/models/pools/average_pool.py\n",
            "/content/drive/MyDrive/Research Project/AsymMirai-radiology-1.0/onconet/models/pools/factory.py\n",
            "/content/drive/MyDrive/Research Project/AsymMirai-radiology-1.0/onconet/models/blocks/factory.py\n",
            "/content/drive/MyDrive/Research Project/AsymMirai-radiology-1.0/onconet/models/blocks/preact_basic.py\n",
            "/content/drive/MyDrive/Research Project/AsymMirai-radiology-1.0/onconet/models/blocks/basic_block.py\n",
            "/content/drive/MyDrive/Research Project/AsymMirai-radiology-1.0/onconet/models/blocks/attend_compare_agg_block.py\n",
            "/content/drive/MyDrive/Research Project/AsymMirai-radiology-1.0/onconet/models/blocks/non_local_block.py\n",
            "/content/drive/MyDrive/Research Project/AsymMirai-radiology-1.0/onconet/models/blocks/bottleneck.py\n",
            "/content/drive/MyDrive/Research Project/AsymMirai-radiology-1.0/onconet/models/blocks/__init__.py\n",
            "/content/drive/MyDrive/Research Project/AsymMirai-radiology-1.0/onconet/learn/__init__.py\n",
            "/content/drive/MyDrive/Research Project/AsymMirai-radiology-1.0/onconet/learn/state_keeper.py\n",
            "/content/drive/MyDrive/Research Project/AsymMirai-radiology-1.0/onconet/learn/train.py\n",
            "/content/drive/MyDrive/Research Project/AsymMirai-radiology-1.0/onconet/learn/step.py\n",
            "/content/drive/MyDrive/Research Project/AsymMirai-radiology-1.0/onconet/learn/utils.py\n",
            "/content/drive/MyDrive/Research Project/AsymMirai-radiology-1.0/onconet/datasets/florida_density.py\n",
            "/content/drive/MyDrive/Research Project/AsymMirai-radiology-1.0/onconet/datasets/florida_cancer.py\n",
            "/content/drive/MyDrive/Research Project/AsymMirai-radiology-1.0/onconet/datasets/csv_mammo_cancer.py\n",
            "/content/drive/MyDrive/Research Project/AsymMirai-radiology-1.0/onconet/datasets/kinetics.py\n",
            "/content/drive/MyDrive/Research Project/AsymMirai-radiology-1.0/onconet/datasets/detroit_mammo_cancer.py\n",
            "/content/drive/MyDrive/Research Project/AsymMirai-radiology-1.0/onconet/datasets/detroit_mammo_density.py\n",
            "/content/drive/MyDrive/Research Project/AsymMirai-radiology-1.0/onconet/datasets/kth_mammo_cancer_survival.py\n",
            "/content/drive/MyDrive/Research Project/AsymMirai-radiology-1.0/onconet/datasets/mgh_mammo_cancer.py\n",
            "/content/drive/MyDrive/Research Project/AsymMirai-radiology-1.0/onconet/datasets/__init__.py\n",
            "/content/drive/MyDrive/Research Project/AsymMirai-radiology-1.0/onconet/datasets/florida_patch_abnormalities.py\n",
            "/content/drive/MyDrive/Research Project/AsymMirai-radiology-1.0/onconet/datasets/birds.py\n",
            "/content/drive/MyDrive/Research Project/AsymMirai-radiology-1.0/onconet/datasets/mgh_mammo_all_paths.py\n",
            "/content/drive/MyDrive/Research Project/AsymMirai-radiology-1.0/onconet/datasets/hrl.py\n",
            "/content/drive/MyDrive/Research Project/AsymMirai-radiology-1.0/onconet/datasets/bmcs_mammo_cancer_survival_all_images.py\n",
            "/content/drive/MyDrive/Research Project/AsymMirai-radiology-1.0/onconet/datasets/factory.py\n",
            "/content/drive/MyDrive/Research Project/AsymMirai-radiology-1.0/onconet/datasets/mgh_mammo_cancer_all_views.py\n",
            "/content/drive/MyDrive/Research Project/AsymMirai-radiology-1.0/onconet/datasets/kth_mammo_cancer_survival_all_images.py\n",
            "/content/drive/MyDrive/Research Project/AsymMirai-radiology-1.0/onconet/datasets/abstract_onco_dataset.py\n",
            "/content/drive/MyDrive/Research Project/AsymMirai-radiology-1.0/onconet/datasets/abstract_mgh_mri_dataset.py\n",
            "/content/drive/MyDrive/Research Project/AsymMirai-radiology-1.0/onconet/datasets/mgh_mammo_density.py\n",
            "/content/drive/MyDrive/Research Project/AsymMirai-radiology-1.0/onconet/datasets/mgh_mri_bpe.py\n",
            "/content/drive/MyDrive/Research Project/AsymMirai-radiology-1.0/onconet/datasets/nwh_mammo_survival.py\n",
            "/content/drive/MyDrive/Research Project/AsymMirai-radiology-1.0/onconet/datasets/mgh_mammo_risk_multi_breast.py\n",
            "/content/drive/MyDrive/Research Project/AsymMirai-radiology-1.0/onconet/datasets/mgh_mammo_cancer_survival_all_images.py\n",
            "/content/drive/MyDrive/Research Project/AsymMirai-radiology-1.0/onconet/datasets/nwh_mammo_survival_all_images.py\n",
            "/content/drive/MyDrive/Research Project/AsymMirai-radiology-1.0/onconet/datasets/mgh_mri_risk.py\n",
            "/content/drive/MyDrive/Research Project/AsymMirai-radiology-1.0/onconet/datasets/mgh_mri_age.py\n",
            "/content/drive/MyDrive/Research Project/AsymMirai-radiology-1.0/onconet/datasets/mgh_mammo_cancer_survival.py\n",
            "/content/drive/MyDrive/Research Project/AsymMirai-radiology-1.0/onconet/datasets/mgh_mammo_cancer_with_prior.py\n",
            "/content/drive/MyDrive/Research Project/AsymMirai-radiology-1.0/onconet/datasets/nwh_mammo_cancer.py\n",
            "/content/drive/MyDrive/Research Project/AsymMirai-radiology-1.0/onconet/datasets/mgh_mammo_patient_reid.py\n",
            "/content/drive/MyDrive/Research Project/AsymMirai-radiology-1.0/onconet/datasets/mgh_mammo_risk_multi_view.py\n",
            "/content/drive/MyDrive/Research Project/AsymMirai-radiology-1.0/onconet/datasets/mnist.py\n",
            "/content/drive/MyDrive/Research Project/AsymMirai-radiology-1.0/onconet/datasets/mgh_mammo_patch_risk.py\n",
            "/content/drive/MyDrive/Research Project/AsymMirai-radiology-1.0/onconet/datasets/loader/__init__.py\n",
            "/content/drive/MyDrive/Research Project/AsymMirai-radiology-1.0/onconet/datasets/loader/image.py\n",
            "/content/drive/MyDrive/Research Project/AsymMirai-radiology-1.0/asymmetry_model/__init__.py\n",
            "/content/drive/MyDrive/Research Project/AsymMirai-radiology-1.0/asymmetry_model/mirai_metadataset.py\n",
            "/content/drive/MyDrive/Research Project/AsymMirai-radiology-1.0/asymmetry_model/get_asymmetries.py\n",
            "/content/drive/MyDrive/Research Project/AsymMirai-radiology-1.0/asymmetry_model/embed_explore.py\n",
            "/content/drive/MyDrive/Research Project/AsymMirai-radiology-1.0/asymmetry_model/patient_history_reports.py\n",
            "/content/drive/MyDrive/Research Project/AsymMirai-radiology-1.0/asymmetry_model/asymmetry_metrics.py\n",
            "/content/drive/MyDrive/Research Project/AsymMirai-radiology-1.0/asymmetry_model/testing.py\n",
            "/content/drive/MyDrive/Research Project/AsymMirai-radiology-1.0/asymmetry_model/train.py\n",
            "/content/drive/MyDrive/Research Project/AsymMirai-radiology-1.0/asymmetry_model/monte_carlo_dropout.py\n",
            "/content/drive/MyDrive/Research Project/AsymMirai-radiology-1.0/asymmetry_model/mirai_localized_dif_head.py\n",
            "/content/drive/MyDrive/Research Project/AsymMirai-radiology-1.0/asymmetry_model/load_model.py\n",
            "/content/drive/MyDrive/Research Project/AsymMirai-radiology-1.0/demo/prep_csv_some_flipped.py\n",
            "/content/drive/MyDrive/Research Project/AsymMirai-radiology-1.0/demo/prep_csv_all_flipped.py\n",
            "/content/drive/MyDrive/Research Project/AsymMirai-radiology-1.0/demo/flip_data.py\n",
            "/content/drive/MyDrive/Research Project/AsymMirai-radiology-1.0/demo/prep_csv.py\n",
            "/content/drive/MyDrive/AsymMirai/AsymMirai-master/get_asymmetries.py\n",
            "/content/drive/MyDrive/AsymMirai/AsymMirai-master/demo/prep_csv_some_flipped.py\n",
            "/content/drive/MyDrive/AsymMirai/AsymMirai-master/demo/prep_csv_all_flipped.py\n",
            "/content/drive/MyDrive/AsymMirai/AsymMirai-master/demo/flip_data.py\n",
            "/content/drive/MyDrive/AsymMirai/AsymMirai-master/demo/prep_csv.py\n",
            "/content/drive/MyDrive/AsymMirai/AsymMirai-master/asymmetry_model/patient_history_reports.py\n",
            "/content/drive/MyDrive/AsymMirai/AsymMirai-master/asymmetry_model/embed_explore.py\n",
            "/content/drive/MyDrive/AsymMirai/AsymMirai-master/asymmetry_model/get_asymmetries.py\n",
            "/content/drive/MyDrive/AsymMirai/AsymMirai-master/asymmetry_model/asymmetry_metrics.py\n",
            "/content/drive/MyDrive/AsymMirai/AsymMirai-master/asymmetry_model/load_model.py\n",
            "/content/drive/MyDrive/AsymMirai/AsymMirai-master/asymmetry_model/__init__.py\n",
            "/content/drive/MyDrive/AsymMirai/AsymMirai-master/asymmetry_model/run_training_launcher.py\n",
            "/content/drive/MyDrive/AsymMirai/AsymMirai-master/asymmetry_model/train.py\n",
            "/content/drive/MyDrive/AsymMirai/AsymMirai-master/asymmetry_model/mirai_metadataset.py\n",
            "/content/drive/MyDrive/AsymMirai/AsymMirai-master/asymmetry_model/run_utils.py\n",
            "/content/drive/MyDrive/AsymMirai/AsymMirai-master/asymmetry_model/run_model_on_merged_dataset.py\n",
            "/content/drive/MyDrive/AsymMirai/AsymMirai-master/asymmetry_model/mirai_localized_dif_head.py\n",
            "/content/drive/MyDrive/AsymMirai/AsymMirai-master/asymmetry_model/testing.py\n",
            "/content/drive/MyDrive/AsymMirai/AsymMirai-master/scripts/get_dataset_stats.py\n",
            "/content/drive/MyDrive/AsymMirai/AsymMirai-master/scripts/dispatcher.py\n",
            "/content/drive/MyDrive/AsymMirai/AsymMirai-master/scripts/main.py\n",
            "/content/drive/MyDrive/AsymMirai/AsymMirai-master/tests/test_asymmetry.py\n",
            "/content/drive/MyDrive/AsymMirai/AsymMirai-master/tests/test_transformers.py\n",
            "/content/drive/MyDrive/AsymMirai/AsymMirai-master/tests/test_utils.py\n",
            "/content/drive/MyDrive/AsymMirai/AsymMirai-master/tests/__init__.py\n",
            "/content/drive/MyDrive/AsymMirai/AsymMirai-master/tests/test_models.py\n",
            "/content/drive/MyDrive/AsymMirai/AsymMirai-master/tests/test_loader.py\n",
            "/content/drive/MyDrive/AsymMirai/AsymMirai-master/onconet/__init__.py\n",
            "/content/drive/MyDrive/AsymMirai/AsymMirai-master/onconet/models/resnet_base.py\n",
            "/content/drive/MyDrive/AsymMirai/AsymMirai-master/onconet/models/nonlocal_resnets.py\n",
            "/content/drive/MyDrive/AsymMirai/AsymMirai-master/onconet/models/factory.py\n",
            "/content/drive/MyDrive/AsymMirai/AsymMirai-master/onconet/models/mmd.py\n",
            "/content/drive/MyDrive/AsymMirai/AsymMirai-master/onconet/models/hiddens_transfomer.py\n",
            "/content/drive/MyDrive/AsymMirai/AsymMirai-master/onconet/models/group_norm.py\n",
            "/content/drive/MyDrive/AsymMirai/AsymMirai-master/onconet/models/custom_resnet.py\n",
            "/content/drive/MyDrive/AsymMirai/AsymMirai-master/onconet/models/aggregator.py\n",
            "/content/drive/MyDrive/AsymMirai/AsymMirai-master/onconet/models/default_models.py\n",
            "/content/drive/MyDrive/AsymMirai/AsymMirai-master/onconet/models/aggregate_feat_maps.py\n",
            "/content/drive/MyDrive/AsymMirai/AsymMirai-master/onconet/models/temporal_mmd.py\n",
            "/content/drive/MyDrive/AsymMirai/AsymMirai-master/onconet/models/default_resnets.py\n",
            "/content/drive/MyDrive/AsymMirai/AsymMirai-master/onconet/models/mirai_full.py\n",
            "/content/drive/MyDrive/AsymMirai/AsymMirai-master/onconet/models/ensemble.py\n",
            "/content/drive/MyDrive/AsymMirai/AsymMirai-master/onconet/models/aggregate_hiddens.py\n",
            "/content/drive/MyDrive/AsymMirai/AsymMirai-master/onconet/models/__init__.py\n",
            "/content/drive/MyDrive/AsymMirai/AsymMirai-master/onconet/models/discriminator.py\n",
            "/content/drive/MyDrive/AsymMirai/AsymMirai-master/onconet/models/inflate.py\n",
            "/content/drive/MyDrive/AsymMirai/AsymMirai-master/onconet/models/cumulative_probability_layer.py\n",
            "/content/drive/MyDrive/AsymMirai/AsymMirai-master/onconet/models/pools/deep_risk_factor_pool.py\n",
            "/content/drive/MyDrive/AsymMirai/AsymMirai-master/onconet/models/pools/abstract_pool.py\n",
            "/content/drive/MyDrive/AsymMirai/AsymMirai-master/onconet/models/pools/risk_factor_pool.py\n",
            "/content/drive/MyDrive/AsymMirai/AsymMirai-master/onconet/models/pools/max_pool.py\n",
            "/content/drive/MyDrive/AsymMirai/AsymMirai-master/onconet/models/pools/average_pool.py\n",
            "/content/drive/MyDrive/AsymMirai/AsymMirai-master/onconet/models/pools/sliding_window.py\n",
            "/content/drive/MyDrive/AsymMirai/AsymMirai-master/onconet/models/pools/factory.py\n",
            "/content/drive/MyDrive/AsymMirai/AsymMirai-master/onconet/models/pools/concat_pool.py\n",
            "/content/drive/MyDrive/AsymMirai/AsymMirai-master/onconet/models/pools/__init__.py\n",
            "/content/drive/MyDrive/AsymMirai/AsymMirai-master/onconet/models/pools/attention_pool.py\n",
            "/content/drive/MyDrive/AsymMirai/AsymMirai-master/onconet/models/spatial_transformers/__init__.py\n",
            "/content/drive/MyDrive/AsymMirai/AsymMirai-master/onconet/models/spatial_transformers/affine.py\n",
            "/content/drive/MyDrive/AsymMirai/AsymMirai-master/onconet/models/spatial_transformers/factory.py\n",
            "/content/drive/MyDrive/AsymMirai/AsymMirai-master/onconet/models/blocks/bottleneck.py\n",
            "/content/drive/MyDrive/AsymMirai/AsymMirai-master/onconet/models/blocks/non_local_block.py\n",
            "/content/drive/MyDrive/AsymMirai/AsymMirai-master/onconet/models/blocks/__init__.py\n",
            "/content/drive/MyDrive/AsymMirai/AsymMirai-master/onconet/models/blocks/preact_basic.py\n",
            "/content/drive/MyDrive/AsymMirai/AsymMirai-master/onconet/models/blocks/factory.py\n",
            "/content/drive/MyDrive/AsymMirai/AsymMirai-master/onconet/models/blocks/basic_block.py\n",
            "/content/drive/MyDrive/AsymMirai/AsymMirai-master/onconet/models/blocks/attend_compare_agg_block.py\n",
            "/content/drive/MyDrive/AsymMirai/AsymMirai-master/onconet/learn/train.py\n",
            "/content/drive/MyDrive/AsymMirai/AsymMirai-master/onconet/learn/__init__.py\n",
            "/content/drive/MyDrive/AsymMirai/AsymMirai-master/onconet/learn/step.py\n",
            "/content/drive/MyDrive/AsymMirai/AsymMirai-master/onconet/learn/utils.py\n",
            "/content/drive/MyDrive/AsymMirai/AsymMirai-master/onconet/learn/state_keeper.py\n",
            "/content/drive/MyDrive/AsymMirai/AsymMirai-master/onconet/utils/region_annotation.py\n",
            "/content/drive/MyDrive/AsymMirai/AsymMirai-master/onconet/utils/get_dataset_stats.py\n",
            "/content/drive/MyDrive/AsymMirai/AsymMirai-master/onconet/utils/parsing.py\n",
            "/content/drive/MyDrive/AsymMirai/AsymMirai-master/onconet/utils/stats.py\n",
            "/content/drive/MyDrive/AsymMirai/AsymMirai-master/onconet/utils/generic.py\n",
            "/content/drive/MyDrive/AsymMirai/AsymMirai-master/onconet/utils/risk_factors.py\n",
            "/content/drive/MyDrive/AsymMirai/AsymMirai-master/onconet/utils/c_index.py\n",
            "/content/drive/MyDrive/AsymMirai/AsymMirai-master/onconet/utils/__init__.py\n",
            "/content/drive/MyDrive/AsymMirai/AsymMirai-master/onconet/transformers/tensor.py\n",
            "/content/drive/MyDrive/AsymMirai/AsymMirai-master/onconet/transformers/factory.py\n",
            "/content/drive/MyDrive/AsymMirai/AsymMirai-master/onconet/transformers/basic.py\n",
            "/content/drive/MyDrive/AsymMirai/AsymMirai-master/onconet/transformers/abstract.py\n",
            "/content/drive/MyDrive/AsymMirai/AsymMirai-master/onconet/transformers/image.py\n",
            "/content/drive/MyDrive/AsymMirai/AsymMirai-master/onconet/transformers/__init__.py\n",
            "/content/drive/MyDrive/AsymMirai/AsymMirai-master/onconet/transformers/video.py\n",
            "/content/drive/MyDrive/AsymMirai/AsymMirai-master/onconet/visualize/__init__.py\n",
            "/content/drive/MyDrive/AsymMirai/AsymMirai-master/onconet/visualize/plot_filters.py\n",
            "/content/drive/MyDrive/AsymMirai/AsymMirai-master/onconet/visualize/viz_utils.py\n",
            "/content/drive/MyDrive/AsymMirai/AsymMirai-master/onconet/datasets/mgh_mammo_risk_multi_view.py\n",
            "/content/drive/MyDrive/AsymMirai/AsymMirai-master/onconet/datasets/nwh_mammo_survival.py\n",
            "/content/drive/MyDrive/AsymMirai/AsymMirai-master/onconet/datasets/mgh_mammo_cancer_with_prior.py\n",
            "/content/drive/MyDrive/AsymMirai/AsymMirai-master/onconet/datasets/florida_cancer.py\n",
            "/content/drive/MyDrive/AsymMirai/AsymMirai-master/onconet/datasets/florida_patch_abnormalities.py\n",
            "/content/drive/MyDrive/AsymMirai/AsymMirai-master/onconet/datasets/mgh_mammo_cancer_survival_all_images.py\n",
            "/content/drive/MyDrive/AsymMirai/AsymMirai-master/onconet/datasets/mgh_mri_age.py\n",
            "/content/drive/MyDrive/AsymMirai/AsymMirai-master/onconet/datasets/mgh_mammo_cancer_all_views.py\n",
            "/content/drive/MyDrive/AsymMirai/AsymMirai-master/onconet/datasets/nwh_mammo_survival_all_images.py\n",
            "/content/drive/MyDrive/AsymMirai/AsymMirai-master/onconet/datasets/kth_mammo_cancer_survival.py\n",
            "/content/drive/MyDrive/AsymMirai/AsymMirai-master/onconet/datasets/hrl.py\n",
            "/content/drive/MyDrive/AsymMirai/AsymMirai-master/onconet/datasets/csv_mammo_cancer.py\n",
            "/content/drive/MyDrive/AsymMirai/AsymMirai-master/onconet/datasets/mgh_mammo_density.py\n",
            "/content/drive/MyDrive/AsymMirai/AsymMirai-master/onconet/datasets/mgh_mammo_risk_multi_breast.py\n",
            "/content/drive/MyDrive/AsymMirai/AsymMirai-master/onconet/datasets/abstract_onco_dataset.py\n",
            "/content/drive/MyDrive/AsymMirai/AsymMirai-master/onconet/datasets/mgh_mri_bpe.py\n",
            "/content/drive/MyDrive/AsymMirai/AsymMirai-master/onconet/datasets/mgh_mammo_all_paths.py\n",
            "/content/drive/MyDrive/AsymMirai/AsymMirai-master/onconet/datasets/mgh_mammo_patch_risk.py\n",
            "/content/drive/MyDrive/AsymMirai/AsymMirai-master/onconet/datasets/factory.py\n",
            "/content/drive/MyDrive/AsymMirai/AsymMirai-master/onconet/datasets/mgh_mammo_cancer_survival.py\n",
            "/content/drive/MyDrive/AsymMirai/AsymMirai-master/onconet/datasets/mgh_mammo_patient_reid.py\n",
            "/content/drive/MyDrive/AsymMirai/AsymMirai-master/onconet/datasets/mgh_mammo_cancer.py\n",
            "/content/drive/MyDrive/AsymMirai/AsymMirai-master/onconet/datasets/nwh_mammo_cancer.py\n",
            "/content/drive/MyDrive/AsymMirai/AsymMirai-master/onconet/datasets/florida_density.py\n",
            "/content/drive/MyDrive/AsymMirai/AsymMirai-master/onconet/datasets/kth_mammo_cancer_survival_all_images.py\n",
            "/content/drive/MyDrive/AsymMirai/AsymMirai-master/onconet/datasets/detroit_mammo_density.py\n",
            "/content/drive/MyDrive/AsymMirai/AsymMirai-master/onconet/datasets/kinetics.py\n",
            "/content/drive/MyDrive/AsymMirai/AsymMirai-master/onconet/datasets/birds.py\n",
            "/content/drive/MyDrive/AsymMirai/AsymMirai-master/onconet/datasets/detroit_mammo_cancer.py\n",
            "/content/drive/MyDrive/AsymMirai/AsymMirai-master/onconet/datasets/mgh_mri_risk.py\n",
            "/content/drive/MyDrive/AsymMirai/AsymMirai-master/onconet/datasets/mnist.py\n",
            "/content/drive/MyDrive/AsymMirai/AsymMirai-master/onconet/datasets/bmcs_mammo_cancer_survival_all_images.py\n",
            "/content/drive/MyDrive/AsymMirai/AsymMirai-master/onconet/datasets/__init__.py\n",
            "/content/drive/MyDrive/AsymMirai/AsymMirai-master/onconet/datasets/abstract_mgh_mri_dataset.py\n",
            "/content/drive/MyDrive/AsymMirai/AsymMirai-master/onconet/datasets/loader/image.py\n",
            "/content/drive/MyDrive/AsymMirai/AsymMirai-master/onconet/datasets/loader/__init__.py\n",
            "/content/drive/MyDrive/dissertation/AsymMirai-master/AsymMirai-master/get_asymmetries.py\n",
            "/content/drive/MyDrive/dissertation/AsymMirai-master/AsymMirai-master/asymmetry_model/embed_explore.py\n",
            "/content/drive/MyDrive/dissertation/AsymMirai-master/AsymMirai-master/asymmetry_model/train.py\n",
            "/content/drive/MyDrive/dissertation/AsymMirai-master/AsymMirai-master/asymmetry_model/get_asymmetries.py\n",
            "/content/drive/MyDrive/dissertation/AsymMirai-master/AsymMirai-master/asymmetry_model/__init__.py\n",
            "/content/drive/MyDrive/dissertation/AsymMirai-master/AsymMirai-master/asymmetry_model/mirai_metadataset.py\n",
            "/content/drive/MyDrive/dissertation/AsymMirai-master/AsymMirai-master/asymmetry_model/asymmetry_metrics.py\n",
            "/content/drive/MyDrive/dissertation/AsymMirai-master/AsymMirai-master/asymmetry_model/load_model.py\n",
            "/content/drive/MyDrive/dissertation/AsymMirai-master/AsymMirai-master/asymmetry_model/patient_history_reports.py\n",
            "/content/drive/MyDrive/dissertation/AsymMirai-master/AsymMirai-master/asymmetry_model/testing.py\n",
            "/content/drive/MyDrive/dissertation/AsymMirai-master/AsymMirai-master/asymmetry_model/mirai_localized_dif_head.py\n",
            "/content/drive/MyDrive/dissertation/AsymMirai-master/AsymMirai-master/demo/prep_csv_all_flipped.py\n",
            "/content/drive/MyDrive/dissertation/AsymMirai-master/AsymMirai-master/demo/prep_csv_some_flipped.py\n",
            "/content/drive/MyDrive/dissertation/AsymMirai-master/AsymMirai-master/demo/flip_data.py\n",
            "/content/drive/MyDrive/dissertation/AsymMirai-master/AsymMirai-master/demo/prep_csv.py\n",
            "/content/drive/MyDrive/dissertation/AsymMirai-master/AsymMirai-master/onconet/__init__.py\n",
            "/content/drive/MyDrive/dissertation/AsymMirai-master/AsymMirai-master/onconet/visualize/viz_utils.py\n",
            "/content/drive/MyDrive/dissertation/AsymMirai-master/AsymMirai-master/onconet/visualize/plot_filters.py\n",
            "/content/drive/MyDrive/dissertation/AsymMirai-master/AsymMirai-master/onconet/visualize/__init__.py\n",
            "/content/drive/MyDrive/dissertation/AsymMirai-master/AsymMirai-master/onconet/transformers/tensor.py\n",
            "/content/drive/MyDrive/dissertation/AsymMirai-master/AsymMirai-master/onconet/transformers/video.py\n",
            "/content/drive/MyDrive/dissertation/AsymMirai-master/AsymMirai-master/onconet/transformers/factory.py\n",
            "/content/drive/MyDrive/dissertation/AsymMirai-master/AsymMirai-master/onconet/transformers/basic.py\n",
            "/content/drive/MyDrive/dissertation/AsymMirai-master/AsymMirai-master/onconet/transformers/__init__.py\n",
            "/content/drive/MyDrive/dissertation/AsymMirai-master/AsymMirai-master/onconet/transformers/abstract.py\n",
            "/content/drive/MyDrive/dissertation/AsymMirai-master/AsymMirai-master/onconet/transformers/image.py\n",
            "/content/drive/MyDrive/dissertation/AsymMirai-master/AsymMirai-master/onconet/learn/state_keeper.py\n",
            "/content/drive/MyDrive/dissertation/AsymMirai-master/AsymMirai-master/onconet/learn/__init__.py\n",
            "/content/drive/MyDrive/dissertation/AsymMirai-master/AsymMirai-master/onconet/learn/step.py\n",
            "/content/drive/MyDrive/dissertation/AsymMirai-master/AsymMirai-master/onconet/learn/utils.py\n",
            "/content/drive/MyDrive/dissertation/AsymMirai-master/AsymMirai-master/onconet/learn/train.py\n",
            "/content/drive/MyDrive/dissertation/AsymMirai-master/AsymMirai-master/onconet/models/discriminator.py\n",
            "/content/drive/MyDrive/dissertation/AsymMirai-master/AsymMirai-master/onconet/models/factory.py\n",
            "/content/drive/MyDrive/dissertation/AsymMirai-master/AsymMirai-master/onconet/models/aggregate_hiddens.py\n",
            "/content/drive/MyDrive/dissertation/AsymMirai-master/AsymMirai-master/onconet/models/temporal_mmd.py\n",
            "/content/drive/MyDrive/dissertation/AsymMirai-master/AsymMirai-master/onconet/models/mmd.py\n",
            "/content/drive/MyDrive/dissertation/AsymMirai-master/AsymMirai-master/onconet/models/default_resnets.py\n",
            "/content/drive/MyDrive/dissertation/AsymMirai-master/AsymMirai-master/onconet/models/group_norm.py\n",
            "/content/drive/MyDrive/dissertation/AsymMirai-master/AsymMirai-master/onconet/models/default_models.py\n",
            "/content/drive/MyDrive/dissertation/AsymMirai-master/AsymMirai-master/onconet/models/nonlocal_resnets.py\n",
            "/content/drive/MyDrive/dissertation/AsymMirai-master/AsymMirai-master/onconet/models/hiddens_transfomer.py\n",
            "/content/drive/MyDrive/dissertation/AsymMirai-master/AsymMirai-master/onconet/models/__init__.py\n",
            "/content/drive/MyDrive/dissertation/AsymMirai-master/AsymMirai-master/onconet/models/custom_resnet.py\n",
            "/content/drive/MyDrive/dissertation/AsymMirai-master/AsymMirai-master/onconet/models/aggregator.py\n",
            "/content/drive/MyDrive/dissertation/AsymMirai-master/AsymMirai-master/onconet/models/resnet_base.py\n",
            "/content/drive/MyDrive/dissertation/AsymMirai-master/AsymMirai-master/onconet/models/aggregate_feat_maps.py\n",
            "/content/drive/MyDrive/dissertation/AsymMirai-master/AsymMirai-master/onconet/models/inflate.py\n",
            "/content/drive/MyDrive/dissertation/AsymMirai-master/AsymMirai-master/onconet/models/cumulative_probability_layer.py\n",
            "/content/drive/MyDrive/dissertation/AsymMirai-master/AsymMirai-master/onconet/models/ensemble.py\n",
            "/content/drive/MyDrive/dissertation/AsymMirai-master/AsymMirai-master/onconet/models/mirai_full.py\n",
            "/content/drive/MyDrive/dissertation/AsymMirai-master/AsymMirai-master/onconet/models/blocks/bottleneck.py\n",
            "/content/drive/MyDrive/dissertation/AsymMirai-master/AsymMirai-master/onconet/models/blocks/attend_compare_agg_block.py\n",
            "/content/drive/MyDrive/dissertation/AsymMirai-master/AsymMirai-master/onconet/models/blocks/factory.py\n",
            "/content/drive/MyDrive/dissertation/AsymMirai-master/AsymMirai-master/onconet/models/blocks/__init__.py\n",
            "/content/drive/MyDrive/dissertation/AsymMirai-master/AsymMirai-master/onconet/models/blocks/non_local_block.py\n",
            "/content/drive/MyDrive/dissertation/AsymMirai-master/AsymMirai-master/onconet/models/blocks/basic_block.py\n",
            "/content/drive/MyDrive/dissertation/AsymMirai-master/AsymMirai-master/onconet/models/blocks/preact_basic.py\n",
            "/content/drive/MyDrive/dissertation/AsymMirai-master/AsymMirai-master/onconet/models/spatial_transformers/__init__.py\n",
            "/content/drive/MyDrive/dissertation/AsymMirai-master/AsymMirai-master/onconet/models/spatial_transformers/affine.py\n",
            "/content/drive/MyDrive/dissertation/AsymMirai-master/AsymMirai-master/onconet/models/spatial_transformers/factory.py\n",
            "/content/drive/MyDrive/dissertation/AsymMirai-master/AsymMirai-master/onconet/models/pools/attention_pool.py\n",
            "/content/drive/MyDrive/dissertation/AsymMirai-master/AsymMirai-master/onconet/models/pools/__init__.py\n",
            "/content/drive/MyDrive/dissertation/AsymMirai-master/AsymMirai-master/onconet/models/pools/sliding_window.py\n",
            "/content/drive/MyDrive/dissertation/AsymMirai-master/AsymMirai-master/onconet/models/pools/max_pool.py\n",
            "/content/drive/MyDrive/dissertation/AsymMirai-master/AsymMirai-master/onconet/models/pools/factory.py\n",
            "/content/drive/MyDrive/dissertation/AsymMirai-master/AsymMirai-master/onconet/models/pools/abstract_pool.py\n",
            "/content/drive/MyDrive/dissertation/AsymMirai-master/AsymMirai-master/onconet/models/pools/deep_risk_factor_pool.py\n",
            "/content/drive/MyDrive/dissertation/AsymMirai-master/AsymMirai-master/onconet/models/pools/risk_factor_pool.py\n",
            "/content/drive/MyDrive/dissertation/AsymMirai-master/AsymMirai-master/onconet/models/pools/average_pool.py\n",
            "/content/drive/MyDrive/dissertation/AsymMirai-master/AsymMirai-master/onconet/models/pools/concat_pool.py\n",
            "/content/drive/MyDrive/dissertation/AsymMirai-master/AsymMirai-master/onconet/datasets/florida_patch_abnormalities.py\n",
            "/content/drive/MyDrive/dissertation/AsymMirai-master/AsymMirai-master/onconet/datasets/bmcs_mammo_cancer_survival_all_images.py\n",
            "/content/drive/MyDrive/dissertation/AsymMirai-master/AsymMirai-master/onconet/datasets/nwh_mammo_survival_all_images.py\n",
            "/content/drive/MyDrive/dissertation/AsymMirai-master/AsymMirai-master/onconet/datasets/mgh_mammo_cancer_all_views.py\n",
            "/content/drive/MyDrive/dissertation/AsymMirai-master/AsymMirai-master/onconet/datasets/mnist.py\n",
            "/content/drive/MyDrive/dissertation/AsymMirai-master/AsymMirai-master/onconet/datasets/mgh_mri_age.py\n",
            "/content/drive/MyDrive/dissertation/AsymMirai-master/AsymMirai-master/onconet/datasets/nwh_mammo_survival.py\n",
            "/content/drive/MyDrive/dissertation/AsymMirai-master/AsymMirai-master/onconet/datasets/hrl.py\n",
            "/content/drive/MyDrive/dissertation/AsymMirai-master/AsymMirai-master/onconet/datasets/mgh_mammo_patient_reid.py\n",
            "/content/drive/MyDrive/dissertation/AsymMirai-master/AsymMirai-master/onconet/datasets/mgh_mammo_cancer.py\n",
            "/content/drive/MyDrive/dissertation/AsymMirai-master/AsymMirai-master/onconet/datasets/mgh_mammo_all_paths.py\n",
            "/content/drive/MyDrive/dissertation/AsymMirai-master/AsymMirai-master/onconet/datasets/mgh_mammo_patch_risk.py\n",
            "/content/drive/MyDrive/dissertation/AsymMirai-master/AsymMirai-master/onconet/datasets/csv_mammo_cancer.py\n",
            "/content/drive/MyDrive/dissertation/AsymMirai-master/AsymMirai-master/onconet/datasets/mgh_mammo_risk_multi_view.py\n",
            "/content/drive/MyDrive/dissertation/AsymMirai-master/AsymMirai-master/onconet/datasets/mgh_mammo_density.py\n",
            "/content/drive/MyDrive/dissertation/AsymMirai-master/AsymMirai-master/onconet/datasets/mgh_mammo_cancer_survival.py\n",
            "/content/drive/MyDrive/dissertation/AsymMirai-master/AsymMirai-master/onconet/datasets/__init__.py\n",
            "/content/drive/MyDrive/dissertation/AsymMirai-master/AsymMirai-master/onconet/datasets/detroit_mammo_cancer.py\n",
            "/content/drive/MyDrive/dissertation/AsymMirai-master/AsymMirai-master/onconet/datasets/abstract_mgh_mri_dataset.py\n",
            "/content/drive/MyDrive/dissertation/AsymMirai-master/AsymMirai-master/onconet/datasets/mgh_mri_risk.py\n",
            "/content/drive/MyDrive/dissertation/AsymMirai-master/AsymMirai-master/onconet/datasets/mgh_mri_bpe.py\n",
            "/content/drive/MyDrive/dissertation/AsymMirai-master/AsymMirai-master/onconet/datasets/birds.py\n",
            "/content/drive/MyDrive/dissertation/AsymMirai-master/AsymMirai-master/onconet/datasets/abstract_onco_dataset.py\n",
            "/content/drive/MyDrive/dissertation/AsymMirai-master/AsymMirai-master/onconet/datasets/detroit_mammo_density.py\n",
            "/content/drive/MyDrive/dissertation/AsymMirai-master/AsymMirai-master/onconet/datasets/mgh_mammo_cancer_survival_all_images.py\n",
            "/content/drive/MyDrive/dissertation/AsymMirai-master/AsymMirai-master/onconet/datasets/kth_mammo_cancer_survival.py\n",
            "/content/drive/MyDrive/dissertation/AsymMirai-master/AsymMirai-master/onconet/datasets/florida_cancer.py\n",
            "/content/drive/MyDrive/dissertation/AsymMirai-master/AsymMirai-master/onconet/datasets/mgh_mammo_cancer_with_prior.py\n",
            "/content/drive/MyDrive/dissertation/AsymMirai-master/AsymMirai-master/onconet/datasets/mgh_mammo_risk_multi_breast.py\n",
            "/content/drive/MyDrive/dissertation/AsymMirai-master/AsymMirai-master/onconet/datasets/factory.py\n",
            "/content/drive/MyDrive/dissertation/AsymMirai-master/AsymMirai-master/onconet/datasets/florida_density.py\n",
            "/content/drive/MyDrive/dissertation/AsymMirai-master/AsymMirai-master/onconet/datasets/nwh_mammo_cancer.py\n",
            "/content/drive/MyDrive/dissertation/AsymMirai-master/AsymMirai-master/onconet/datasets/kinetics.py\n",
            "/content/drive/MyDrive/dissertation/AsymMirai-master/AsymMirai-master/onconet/datasets/kth_mammo_cancer_survival_all_images.py\n",
            "/content/drive/MyDrive/dissertation/AsymMirai-master/AsymMirai-master/onconet/datasets/loader/__init__.py\n",
            "/content/drive/MyDrive/dissertation/AsymMirai-master/AsymMirai-master/onconet/datasets/loader/image.py\n",
            "/content/drive/MyDrive/dissertation/AsymMirai-master/AsymMirai-master/onconet/utils/risk_factors.py\n",
            "/content/drive/MyDrive/dissertation/AsymMirai-master/AsymMirai-master/onconet/utils/__init__.py\n",
            "/content/drive/MyDrive/dissertation/AsymMirai-master/AsymMirai-master/onconet/utils/c_index.py\n",
            "/content/drive/MyDrive/dissertation/AsymMirai-master/AsymMirai-master/onconet/utils/region_annotation.py\n",
            "/content/drive/MyDrive/dissertation/AsymMirai-master/AsymMirai-master/onconet/utils/generic.py\n",
            "/content/drive/MyDrive/dissertation/AsymMirai-master/AsymMirai-master/onconet/utils/get_dataset_stats.py\n",
            "/content/drive/MyDrive/dissertation/AsymMirai-master/AsymMirai-master/onconet/utils/parsing.py\n",
            "/content/drive/MyDrive/dissertation/AsymMirai-master/AsymMirai-master/onconet/utils/stats.py\n",
            "/content/drive/MyDrive/dissertation/AsymMirai-master/AsymMirai-master/scripts/main.py\n",
            "/content/drive/MyDrive/dissertation/AsymMirai-master/AsymMirai-master/scripts/get_dataset_stats.py\n",
            "/content/drive/MyDrive/dissertation/AsymMirai-master/AsymMirai-master/scripts/dispatcher.py\n",
            "/content/drive/MyDrive/dissertation/AsymMirai-master/AsymMirai-master/tests/test_loader.py\n",
            "/content/drive/MyDrive/dissertation/AsymMirai-master/AsymMirai-master/tests/test_transformers.py\n",
            "/content/drive/MyDrive/dissertation/AsymMirai-master/AsymMirai-master/tests/test_asymmetry.py\n",
            "/content/drive/MyDrive/dissertation/AsymMirai-master/AsymMirai-master/tests/test_utils.py\n",
            "/content/drive/MyDrive/dissertation/AsymMirai-master/AsymMirai-master/tests/__init__.py\n",
            "/content/drive/MyDrive/dissertation/AsymMirai-master/AsymMirai-master/tests/test_models.py\n"
          ]
        }
      ]
    },
    {
      "cell_type": "code",
      "source": [
        "%cd /content/drive/MyDrive/dissertation/AsymMirai-master/AsymMirai-master/asymmetry_model\n",
        "\n",
        "!python train.py\n",
        "\n"
      ],
      "metadata": {
        "colab": {
          "base_uri": "https://localhost:8080/"
        },
        "id": "81L9YMeTVgeu",
        "outputId": "d33fea4c-dec5-4a35-ae6d-437e71d367c5"
      },
      "execution_count": 86,
      "outputs": [
        {
          "output_type": "stream",
          "name": "stdout",
          "text": [
            "/content/drive/MyDrive/dissertation/AsymMirai-master/AsymMirai-master/asymmetry_model\n",
            "⚠️ Using default ResNet18 as backbone.\n",
            "/usr/local/lib/python3.11/dist-packages/torchvision/models/_utils.py:208: UserWarning: The parameter 'pretrained' is deprecated since 0.13 and may be removed in the future, please use 'weights' instead.\n",
            "  warnings.warn(\n",
            "/usr/local/lib/python3.11/dist-packages/torchvision/models/_utils.py:223: UserWarning: Arguments other than a weight enum or `None` for 'weights' are deprecated since 0.13 and may be removed in the future. The current behavior is equivalent to passing `weights=ResNet18_Weights.IMAGENET1K_V1`. You can also use `weights=ResNet18_Weights.DEFAULT` to get the most up-to-date weights.\n",
            "  warnings.warn(msg)\n",
            "✅ Saved final MC Dropout predictions.\n"
          ]
        }
      ]
    }
  ]
}